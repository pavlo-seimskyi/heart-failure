{
 "cells": [
  {
   "cell_type": "code",
   "execution_count": null,
   "id": "729f6deb-bba6-4d6e-93e3-0adea7951f43",
   "metadata": {},
   "outputs": [],
   "source": []
  }
 ],
 "metadata": {
  "kernelspec": {
   "display_name": "",
   "name": ""
  },
  "language_info": {
   "name": ""
  }
 },
 "nbformat": 4,
 "nbformat_minor": 5
}
